{
 "cells": [
  {
   "cell_type": "markdown",
   "metadata": {},
   "source": [
    "# Customer Lifetime Value"
   ]
  },
  {
   "cell_type": "markdown",
   "metadata": {},
   "source": [
    "Lifetime value (LTV) is a metric that estimates the total revenue a business can expect to generate from a customer throughout their entire relationship with the company. It accounts for the customer's revenue contribution, purchase frequency, retention rate, and average lifespan as a customer. Forecasting LTV is valuable because it helps businesses make data-driven decisions about customer acquisition, retention strategies, and marketing spend. By understanding the projected value of a customer, companies can determine how much to invest in acquiring and retaining customers while maximizing profitability. LTV also provides insights into customer segmentation, helping businesses identify their most valuable customer groups and tailor strategies accordingly.\n",
    "\n",
    "There are various ways to calculate LTV, each of which has its merits and drawbacks. In this notebook, we'll explore three common methods:\n",
    "1. Average Method\n",
    "2. Cohort Method\n",
    "3. BG/NBD Method"
   ]
  },
  {
   "cell_type": "markdown",
   "metadata": {},
   "source": [
    "## Importing Libraries and Data"
   ]
  },
  {
   "cell_type": "code",
   "execution_count": 1,
   "metadata": {},
   "outputs": [],
   "source": [
    "import pandas as pd\n",
    "import matplotlib.pyplot as plt\n",
    "import numpy as np"
   ]
  },
  {
   "cell_type": "code",
   "execution_count": 2,
   "metadata": {},
   "outputs": [
    {
     "data": {
      "text/html": [
       "<div>\n",
       "<style scoped>\n",
       "    .dataframe tbody tr th:only-of-type {\n",
       "        vertical-align: middle;\n",
       "    }\n",
       "\n",
       "    .dataframe tbody tr th {\n",
       "        vertical-align: top;\n",
       "    }\n",
       "\n",
       "    .dataframe thead th {\n",
       "        text-align: right;\n",
       "    }\n",
       "</style>\n",
       "<table border=\"1\" class=\"dataframe\">\n",
       "  <thead>\n",
       "    <tr style=\"text-align: right;\">\n",
       "      <th></th>\n",
       "      <th>InvoiceNo</th>\n",
       "      <th>StockCode</th>\n",
       "      <th>Description</th>\n",
       "      <th>Quantity</th>\n",
       "      <th>InvoiceDate</th>\n",
       "      <th>UnitPrice</th>\n",
       "      <th>CustomerID</th>\n",
       "      <th>Country</th>\n",
       "    </tr>\n",
       "  </thead>\n",
       "  <tbody>\n",
       "    <tr>\n",
       "      <th>0</th>\n",
       "      <td>536365</td>\n",
       "      <td>85123A</td>\n",
       "      <td>WHITE HANGING HEART T-LIGHT HOLDER</td>\n",
       "      <td>6</td>\n",
       "      <td>2010-12-01 08:26:00</td>\n",
       "      <td>2.55</td>\n",
       "      <td>17850.0</td>\n",
       "      <td>United Kingdom</td>\n",
       "    </tr>\n",
       "    <tr>\n",
       "      <th>1</th>\n",
       "      <td>536365</td>\n",
       "      <td>71053</td>\n",
       "      <td>WHITE METAL LANTERN</td>\n",
       "      <td>6</td>\n",
       "      <td>2010-12-01 08:26:00</td>\n",
       "      <td>3.39</td>\n",
       "      <td>17850.0</td>\n",
       "      <td>United Kingdom</td>\n",
       "    </tr>\n",
       "    <tr>\n",
       "      <th>2</th>\n",
       "      <td>536365</td>\n",
       "      <td>84406B</td>\n",
       "      <td>CREAM CUPID HEARTS COAT HANGER</td>\n",
       "      <td>8</td>\n",
       "      <td>2010-12-01 08:26:00</td>\n",
       "      <td>2.75</td>\n",
       "      <td>17850.0</td>\n",
       "      <td>United Kingdom</td>\n",
       "    </tr>\n",
       "    <tr>\n",
       "      <th>3</th>\n",
       "      <td>536365</td>\n",
       "      <td>84029G</td>\n",
       "      <td>KNITTED UNION FLAG HOT WATER BOTTLE</td>\n",
       "      <td>6</td>\n",
       "      <td>2010-12-01 08:26:00</td>\n",
       "      <td>3.39</td>\n",
       "      <td>17850.0</td>\n",
       "      <td>United Kingdom</td>\n",
       "    </tr>\n",
       "    <tr>\n",
       "      <th>4</th>\n",
       "      <td>536365</td>\n",
       "      <td>84029E</td>\n",
       "      <td>RED WOOLLY HOTTIE WHITE HEART.</td>\n",
       "      <td>6</td>\n",
       "      <td>2010-12-01 08:26:00</td>\n",
       "      <td>3.39</td>\n",
       "      <td>17850.0</td>\n",
       "      <td>United Kingdom</td>\n",
       "    </tr>\n",
       "  </tbody>\n",
       "</table>\n",
       "</div>"
      ],
      "text/plain": [
       "  InvoiceNo StockCode                          Description  Quantity  \\\n",
       "0    536365    85123A   WHITE HANGING HEART T-LIGHT HOLDER         6   \n",
       "1    536365     71053                  WHITE METAL LANTERN         6   \n",
       "2    536365    84406B       CREAM CUPID HEARTS COAT HANGER         8   \n",
       "3    536365    84029G  KNITTED UNION FLAG HOT WATER BOTTLE         6   \n",
       "4    536365    84029E       RED WOOLLY HOTTIE WHITE HEART.         6   \n",
       "\n",
       "          InvoiceDate  UnitPrice  CustomerID         Country  \n",
       "0 2010-12-01 08:26:00       2.55     17850.0  United Kingdom  \n",
       "1 2010-12-01 08:26:00       3.39     17850.0  United Kingdom  \n",
       "2 2010-12-01 08:26:00       2.75     17850.0  United Kingdom  \n",
       "3 2010-12-01 08:26:00       3.39     17850.0  United Kingdom  \n",
       "4 2010-12-01 08:26:00       3.39     17850.0  United Kingdom  "
      ]
     },
     "execution_count": 2,
     "metadata": {},
     "output_type": "execute_result"
    }
   ],
   "source": [
    "# read_excel requires openpyxl\n",
    "df = pd.read_excel('ltv_dataset.xlsx', parse_dates=['InvoiceDate'])\n",
    "df.head()"
   ]
  },
  {
   "cell_type": "code",
   "execution_count": 3,
   "metadata": {},
   "outputs": [
    {
     "data": {
      "text/plain": [
       "InvoiceNo              object\n",
       "StockCode              object\n",
       "Description            object\n",
       "Quantity                int64\n",
       "InvoiceDate    datetime64[ns]\n",
       "UnitPrice             float64\n",
       "CustomerID            float64\n",
       "Country                object\n",
       "dtype: object"
      ]
     },
     "execution_count": 3,
     "metadata": {},
     "output_type": "execute_result"
    }
   ],
   "source": [
    "df.dtypes"
   ]
  },
  {
   "cell_type": "code",
   "execution_count": 4,
   "metadata": {},
   "outputs": [
    {
     "name": "stdout",
     "output_type": "stream",
     "text": [
      "Number of transactions: 541909\n"
     ]
    }
   ],
   "source": [
    "print(f\"Number of transactions: {df.shape[0]}\")"
   ]
  },
  {
   "cell_type": "markdown",
   "metadata": {},
   "source": [
    "## Preprocessing"
   ]
  },
  {
   "cell_type": "markdown",
   "metadata": {},
   "source": [
    "Our dataset is a record of all transactions occuring between Dec 1, 2010 and Dec 9, 2011 for a UK-based business. The business primarily sells all-occasion gifts, mostly wholesale to downstream retail locations. Each row of the dataset is a line item on an invoice.\n",
    "\n",
    "Our dataset has the following features:\n",
    "- `InvoiceNo`: a 6-digit number that represents the invoice the line item appears on\n",
    "- `StockCode`: a unique ID that represents the item/SKU that was sold\n",
    "- `Description`: the name of the item\n",
    "- `Quantity`: how many of the item were sold on that invoice\n",
    "- `InvoiceData`: the date and time of the invoice/transaction\n",
    "- `UnitPrice`: the unit price of the line item\n",
    "- `CustomerID`: a unique ID that represents the customer making the purchase\n",
    "- `Country`: the country that the customer resides in\n",
    "\n",
    "Our forecasting doesn't need all of these features. That is, some of these features are irrelevant for our use case. We only need `CustomerID`, `InvoiceNo`, `InvoiceDate`, `Quantity`, and `UnitPrice`. Let's select those features and drop the others. Additionally, we'll need a `TotalSales` feature that calculates the total cost of each line item."
   ]
  },
  {
   "cell_type": "code",
   "execution_count": 5,
   "metadata": {},
   "outputs": [
    {
     "data": {
      "text/html": [
       "<div>\n",
       "<style scoped>\n",
       "    .dataframe tbody tr th:only-of-type {\n",
       "        vertical-align: middle;\n",
       "    }\n",
       "\n",
       "    .dataframe tbody tr th {\n",
       "        vertical-align: top;\n",
       "    }\n",
       "\n",
       "    .dataframe thead th {\n",
       "        text-align: right;\n",
       "    }\n",
       "</style>\n",
       "<table border=\"1\" class=\"dataframe\">\n",
       "  <thead>\n",
       "    <tr style=\"text-align: right;\">\n",
       "      <th></th>\n",
       "      <th>CustomerID</th>\n",
       "      <th>InvoiceDate</th>\n",
       "      <th>InvoiceNo</th>\n",
       "      <th>Quantity</th>\n",
       "      <th>UnitPrice</th>\n",
       "      <th>TotalSales</th>\n",
       "    </tr>\n",
       "  </thead>\n",
       "  <tbody>\n",
       "    <tr>\n",
       "      <th>0</th>\n",
       "      <td>17850.0</td>\n",
       "      <td>2010-12-01 08:26:00</td>\n",
       "      <td>536365</td>\n",
       "      <td>6</td>\n",
       "      <td>2.55</td>\n",
       "      <td>15.30</td>\n",
       "    </tr>\n",
       "    <tr>\n",
       "      <th>1</th>\n",
       "      <td>17850.0</td>\n",
       "      <td>2010-12-01 08:26:00</td>\n",
       "      <td>536365</td>\n",
       "      <td>6</td>\n",
       "      <td>3.39</td>\n",
       "      <td>20.34</td>\n",
       "    </tr>\n",
       "    <tr>\n",
       "      <th>2</th>\n",
       "      <td>17850.0</td>\n",
       "      <td>2010-12-01 08:26:00</td>\n",
       "      <td>536365</td>\n",
       "      <td>8</td>\n",
       "      <td>2.75</td>\n",
       "      <td>22.00</td>\n",
       "    </tr>\n",
       "    <tr>\n",
       "      <th>3</th>\n",
       "      <td>17850.0</td>\n",
       "      <td>2010-12-01 08:26:00</td>\n",
       "      <td>536365</td>\n",
       "      <td>6</td>\n",
       "      <td>3.39</td>\n",
       "      <td>20.34</td>\n",
       "    </tr>\n",
       "    <tr>\n",
       "      <th>4</th>\n",
       "      <td>17850.0</td>\n",
       "      <td>2010-12-01 08:26:00</td>\n",
       "      <td>536365</td>\n",
       "      <td>6</td>\n",
       "      <td>3.39</td>\n",
       "      <td>20.34</td>\n",
       "    </tr>\n",
       "  </tbody>\n",
       "</table>\n",
       "</div>"
      ],
      "text/plain": [
       "   CustomerID         InvoiceDate InvoiceNo  Quantity  UnitPrice  TotalSales\n",
       "0     17850.0 2010-12-01 08:26:00    536365         6       2.55       15.30\n",
       "1     17850.0 2010-12-01 08:26:00    536365         6       3.39       20.34\n",
       "2     17850.0 2010-12-01 08:26:00    536365         8       2.75       22.00\n",
       "3     17850.0 2010-12-01 08:26:00    536365         6       3.39       20.34\n",
       "4     17850.0 2010-12-01 08:26:00    536365         6       3.39       20.34"
      ]
     },
     "execution_count": 5,
     "metadata": {},
     "output_type": "execute_result"
    }
   ],
   "source": [
    "# Drop unneeded features\n",
    "features = ['CustomerID', 'InvoiceDate', 'InvoiceNo', 'Quantity', 'UnitPrice']\n",
    "ltv_features = df[features].copy() # Copy so we don't change the original df\n",
    "ltv_features['TotalSales'] = ltv_features['Quantity'] * ltv_features['UnitPrice']\n",
    "ltv_features.head()"
   ]
  },
  {
   "cell_type": "code",
   "execution_count": 6,
   "metadata": {},
   "outputs": [
    {
     "data": {
      "text/html": [
       "<div>\n",
       "<style scoped>\n",
       "    .dataframe tbody tr th:only-of-type {\n",
       "        vertical-align: middle;\n",
       "    }\n",
       "\n",
       "    .dataframe tbody tr th {\n",
       "        vertical-align: top;\n",
       "    }\n",
       "\n",
       "    .dataframe thead th {\n",
       "        text-align: right;\n",
       "    }\n",
       "</style>\n",
       "<table border=\"1\" class=\"dataframe\">\n",
       "  <thead>\n",
       "    <tr style=\"text-align: right;\">\n",
       "      <th></th>\n",
       "      <th>CustomerID</th>\n",
       "      <th>InvoiceDate</th>\n",
       "      <th>Quantity</th>\n",
       "      <th>UnitPrice</th>\n",
       "      <th>TotalSales</th>\n",
       "    </tr>\n",
       "  </thead>\n",
       "  <tbody>\n",
       "    <tr>\n",
       "      <th>count</th>\n",
       "      <td>406829.000000</td>\n",
       "      <td>541909</td>\n",
       "      <td>541909.000000</td>\n",
       "      <td>541909.000000</td>\n",
       "      <td>541909.000000</td>\n",
       "    </tr>\n",
       "    <tr>\n",
       "      <th>mean</th>\n",
       "      <td>15287.690570</td>\n",
       "      <td>2011-07-04 13:34:57.156386048</td>\n",
       "      <td>9.552250</td>\n",
       "      <td>4.611114</td>\n",
       "      <td>17.987795</td>\n",
       "    </tr>\n",
       "    <tr>\n",
       "      <th>min</th>\n",
       "      <td>12346.000000</td>\n",
       "      <td>2010-12-01 08:26:00</td>\n",
       "      <td>-80995.000000</td>\n",
       "      <td>-11062.060000</td>\n",
       "      <td>-168469.600000</td>\n",
       "    </tr>\n",
       "    <tr>\n",
       "      <th>25%</th>\n",
       "      <td>13953.000000</td>\n",
       "      <td>2011-03-28 11:34:00</td>\n",
       "      <td>1.000000</td>\n",
       "      <td>1.250000</td>\n",
       "      <td>3.400000</td>\n",
       "    </tr>\n",
       "    <tr>\n",
       "      <th>50%</th>\n",
       "      <td>15152.000000</td>\n",
       "      <td>2011-07-19 17:17:00</td>\n",
       "      <td>3.000000</td>\n",
       "      <td>2.080000</td>\n",
       "      <td>9.750000</td>\n",
       "    </tr>\n",
       "    <tr>\n",
       "      <th>75%</th>\n",
       "      <td>16791.000000</td>\n",
       "      <td>2011-10-19 11:27:00</td>\n",
       "      <td>10.000000</td>\n",
       "      <td>4.130000</td>\n",
       "      <td>17.400000</td>\n",
       "    </tr>\n",
       "    <tr>\n",
       "      <th>max</th>\n",
       "      <td>18287.000000</td>\n",
       "      <td>2011-12-09 12:50:00</td>\n",
       "      <td>80995.000000</td>\n",
       "      <td>38970.000000</td>\n",
       "      <td>168469.600000</td>\n",
       "    </tr>\n",
       "    <tr>\n",
       "      <th>std</th>\n",
       "      <td>1713.600303</td>\n",
       "      <td>NaN</td>\n",
       "      <td>218.081158</td>\n",
       "      <td>96.759853</td>\n",
       "      <td>378.810824</td>\n",
       "    </tr>\n",
       "  </tbody>\n",
       "</table>\n",
       "</div>"
      ],
      "text/plain": [
       "          CustomerID                    InvoiceDate       Quantity  \\\n",
       "count  406829.000000                         541909  541909.000000   \n",
       "mean    15287.690570  2011-07-04 13:34:57.156386048       9.552250   \n",
       "min     12346.000000            2010-12-01 08:26:00  -80995.000000   \n",
       "25%     13953.000000            2011-03-28 11:34:00       1.000000   \n",
       "50%     15152.000000            2011-07-19 17:17:00       3.000000   \n",
       "75%     16791.000000            2011-10-19 11:27:00      10.000000   \n",
       "max     18287.000000            2011-12-09 12:50:00   80995.000000   \n",
       "std      1713.600303                            NaN     218.081158   \n",
       "\n",
       "           UnitPrice     TotalSales  \n",
       "count  541909.000000  541909.000000  \n",
       "mean        4.611114      17.987795  \n",
       "min    -11062.060000 -168469.600000  \n",
       "25%         1.250000       3.400000  \n",
       "50%         2.080000       9.750000  \n",
       "75%         4.130000      17.400000  \n",
       "max     38970.000000  168469.600000  \n",
       "std        96.759853     378.810824  "
      ]
     },
     "execution_count": 6,
     "metadata": {},
     "output_type": "execute_result"
    }
   ],
   "source": [
    "ltv_features.describe()"
   ]
  },
  {
   "cell_type": "markdown",
   "metadata": {},
   "source": [
    "### Negative Values"
   ]
  },
  {
   "cell_type": "markdown",
   "metadata": {},
   "source": [
    "Looking at the stats for each column, we notice some issues. `Quantity`, `UnitPrice`, and `TotalSales` all have some negative values in them. In this dataset, those negative values represent returns, where the customer returned the products. In LTV estimates we're only interested in the total value a customer will generate over their lifetime, so we can safely drop negative values here."
   ]
  },
  {
   "cell_type": "code",
   "execution_count": 7,
   "metadata": {},
   "outputs": [
    {
     "data": {
      "text/html": [
       "<div>\n",
       "<style scoped>\n",
       "    .dataframe tbody tr th:only-of-type {\n",
       "        vertical-align: middle;\n",
       "    }\n",
       "\n",
       "    .dataframe tbody tr th {\n",
       "        vertical-align: top;\n",
       "    }\n",
       "\n",
       "    .dataframe thead th {\n",
       "        text-align: right;\n",
       "    }\n",
       "</style>\n",
       "<table border=\"1\" class=\"dataframe\">\n",
       "  <thead>\n",
       "    <tr style=\"text-align: right;\">\n",
       "      <th></th>\n",
       "      <th>CustomerID</th>\n",
       "      <th>InvoiceDate</th>\n",
       "      <th>Quantity</th>\n",
       "      <th>UnitPrice</th>\n",
       "      <th>TotalSales</th>\n",
       "    </tr>\n",
       "  </thead>\n",
       "  <tbody>\n",
       "    <tr>\n",
       "      <th>count</th>\n",
       "      <td>397884.000000</td>\n",
       "      <td>530104</td>\n",
       "      <td>530104.000000</td>\n",
       "      <td>530104.000000</td>\n",
       "      <td>530104.000000</td>\n",
       "    </tr>\n",
       "    <tr>\n",
       "      <th>mean</th>\n",
       "      <td>15294.423453</td>\n",
       "      <td>2011-07-04 20:16:05.225087744</td>\n",
       "      <td>10.542037</td>\n",
       "      <td>3.907625</td>\n",
       "      <td>20.121871</td>\n",
       "    </tr>\n",
       "    <tr>\n",
       "      <th>min</th>\n",
       "      <td>12346.000000</td>\n",
       "      <td>2010-12-01 08:26:00</td>\n",
       "      <td>1.000000</td>\n",
       "      <td>0.001000</td>\n",
       "      <td>0.001000</td>\n",
       "    </tr>\n",
       "    <tr>\n",
       "      <th>25%</th>\n",
       "      <td>13969.000000</td>\n",
       "      <td>2011-03-28 12:22:00</td>\n",
       "      <td>1.000000</td>\n",
       "      <td>1.250000</td>\n",
       "      <td>3.750000</td>\n",
       "    </tr>\n",
       "    <tr>\n",
       "      <th>50%</th>\n",
       "      <td>15159.000000</td>\n",
       "      <td>2011-07-20 12:58:00</td>\n",
       "      <td>3.000000</td>\n",
       "      <td>2.080000</td>\n",
       "      <td>9.900000</td>\n",
       "    </tr>\n",
       "    <tr>\n",
       "      <th>75%</th>\n",
       "      <td>16795.000000</td>\n",
       "      <td>2011-10-19 12:39:00</td>\n",
       "      <td>10.000000</td>\n",
       "      <td>4.130000</td>\n",
       "      <td>17.700000</td>\n",
       "    </tr>\n",
       "    <tr>\n",
       "      <th>max</th>\n",
       "      <td>18287.000000</td>\n",
       "      <td>2011-12-09 12:50:00</td>\n",
       "      <td>80995.000000</td>\n",
       "      <td>13541.330000</td>\n",
       "      <td>168469.600000</td>\n",
       "    </tr>\n",
       "    <tr>\n",
       "      <th>std</th>\n",
       "      <td>1713.141560</td>\n",
       "      <td>NaN</td>\n",
       "      <td>155.524124</td>\n",
       "      <td>35.915681</td>\n",
       "      <td>270.356743</td>\n",
       "    </tr>\n",
       "  </tbody>\n",
       "</table>\n",
       "</div>"
      ],
      "text/plain": [
       "          CustomerID                    InvoiceDate       Quantity  \\\n",
       "count  397884.000000                         530104  530104.000000   \n",
       "mean    15294.423453  2011-07-04 20:16:05.225087744      10.542037   \n",
       "min     12346.000000            2010-12-01 08:26:00       1.000000   \n",
       "25%     13969.000000            2011-03-28 12:22:00       1.000000   \n",
       "50%     15159.000000            2011-07-20 12:58:00       3.000000   \n",
       "75%     16795.000000            2011-10-19 12:39:00      10.000000   \n",
       "max     18287.000000            2011-12-09 12:50:00   80995.000000   \n",
       "std      1713.141560                            NaN     155.524124   \n",
       "\n",
       "           UnitPrice     TotalSales  \n",
       "count  530104.000000  530104.000000  \n",
       "mean        3.907625      20.121871  \n",
       "min         0.001000       0.001000  \n",
       "25%         1.250000       3.750000  \n",
       "50%         2.080000       9.900000  \n",
       "75%         4.130000      17.700000  \n",
       "max     13541.330000  168469.600000  \n",
       "std        35.915681     270.356743  "
      ]
     },
     "execution_count": 7,
     "metadata": {},
     "output_type": "execute_result"
    }
   ],
   "source": [
    "ltv_features = ltv_features[ltv_features['TotalSales'] > 0]\n",
    "ltv_features.describe()"
   ]
  },
  {
   "cell_type": "markdown",
   "metadata": {},
   "source": [
    "### NaN Values"
   ]
  },
  {
   "cell_type": "markdown",
   "metadata": {},
   "source": [
    "Let's check for NaN values and address them as needed."
   ]
  },
  {
   "cell_type": "code",
   "execution_count": 8,
   "metadata": {},
   "outputs": [
    {
     "name": "stdout",
     "output_type": "stream",
     "text": [
      "Count of null values:\n",
      "CustomerID     132220\n",
      "InvoiceDate         0\n",
      "InvoiceNo           0\n",
      "Quantity            0\n",
      "UnitPrice           0\n",
      "TotalSales          0\n",
      "dtype: int64\n",
      "Feature CustomerID has 24.94% null values\n"
     ]
    }
   ],
   "source": [
    "# Check for NaN values\n",
    "null_count = ltv_features.isnull().sum()\n",
    "print(f\"Count of null values:\\n{null_count}\")\n",
    "for feature, count in null_count.items():\n",
    "    if count > 0:\n",
    "        print(f\"Feature {feature} has {count/len(ltv_features)*100:.2f}% null values\")"
   ]
  },
  {
   "cell_type": "markdown",
   "metadata": {},
   "source": [
    "This presents a problem. Almost 25% of `CustomerID` values are missing. Due to the nominal nature of unique IDs, it's logically inconsistent to impute data to fill missing values. There is no relation between an ID of 13969 and one of 18287, so imputing data doesn't make sense. In a real world scenaraio, the best thing to do here would be to search for these invoices in an upstream software and correct add `CustomerID`s whenever they are found. In our case, we'll just drop rows with missing `CustomerID`s."
   ]
  },
  {
   "cell_type": "code",
   "execution_count": 9,
   "metadata": {},
   "outputs": [
    {
     "name": "stdout",
     "output_type": "stream",
     "text": [
      "Count of null values:\n",
      "CustomerID     0\n",
      "InvoiceDate    0\n",
      "InvoiceNo      0\n",
      "Quantity       0\n",
      "UnitPrice      0\n",
      "TotalSales     0\n",
      "dtype: int64\n"
     ]
    }
   ],
   "source": [
    "ltv_features = ltv_features.dropna()\n",
    "null_count = ltv_features.isnull().sum()\n",
    "print(f\"Count of null values:\\n{null_count}\")\n",
    "for feature, count in null_count.items():\n",
    "    if count > 0:\n",
    "        print(f\"Feature {feature} has {count/len(ltv_features)*100:.2f}% null values\")"
   ]
  },
  {
   "cell_type": "markdown",
   "metadata": {},
   "source": [
    "## Average Method\n",
    "\n",
    "The simplest way of computing LTV is the average method. The average method assumes a constant sample-wide average spend and churn rate, and produces a single LTV estimate that pertains to all customers.\n",
    "\n",
    "The calculation is $LTV = ((Average Sales \\times Purchase Frequency) \\div Churn Rate) \\times Profit Margin$,\\\n",
    "where \\\n",
    "$Average Sales = Total Sales \\div Total Order Count$\\\n",
    "$Purchase Frequency = Total Order Count \\div Unique Customer Count$\\\n",
    "$Churn Rate = 1 - (Repeat Customer Count \\div Unique Customer Count)$\\\n",
    "$Profit Margin = Constant Based On Business Context$\n",
    "\n",
    "For our use case, we'll assume a 30% profit margin, based on a 2024 IbisWorld report.\\\n",
    "The average method requires data to be formatted at the customer level, rather than the transaction level, so we'll need to reformat our data a bit."
   ]
  },
  {
   "cell_type": "markdown",
   "metadata": {},
   "source": [
    "### Prepping the Data"
   ]
  },
  {
   "cell_type": "code",
   "execution_count": 10,
   "metadata": {},
   "outputs": [
    {
     "data": {
      "text/html": [
       "<div>\n",
       "<style scoped>\n",
       "    .dataframe tbody tr th:only-of-type {\n",
       "        vertical-align: middle;\n",
       "    }\n",
       "\n",
       "    .dataframe tbody tr th {\n",
       "        vertical-align: top;\n",
       "    }\n",
       "\n",
       "    .dataframe thead th {\n",
       "        text-align: right;\n",
       "    }\n",
       "</style>\n",
       "<table border=\"1\" class=\"dataframe\">\n",
       "  <thead>\n",
       "    <tr style=\"text-align: right;\">\n",
       "      <th></th>\n",
       "      <th>CustomerAge</th>\n",
       "      <th>PurchaseFrequency</th>\n",
       "      <th>TotalSales</th>\n",
       "    </tr>\n",
       "    <tr>\n",
       "      <th>CustomerID</th>\n",
       "      <th></th>\n",
       "      <th></th>\n",
       "      <th></th>\n",
       "    </tr>\n",
       "  </thead>\n",
       "  <tbody>\n",
       "    <tr>\n",
       "      <th>12346.0</th>\n",
       "      <td>0</td>\n",
       "      <td>1</td>\n",
       "      <td>77183.60</td>\n",
       "    </tr>\n",
       "    <tr>\n",
       "      <th>12347.0</th>\n",
       "      <td>365</td>\n",
       "      <td>182</td>\n",
       "      <td>4310.00</td>\n",
       "    </tr>\n",
       "    <tr>\n",
       "      <th>12348.0</th>\n",
       "      <td>282</td>\n",
       "      <td>31</td>\n",
       "      <td>1797.24</td>\n",
       "    </tr>\n",
       "    <tr>\n",
       "      <th>12349.0</th>\n",
       "      <td>0</td>\n",
       "      <td>73</td>\n",
       "      <td>1757.55</td>\n",
       "    </tr>\n",
       "    <tr>\n",
       "      <th>12350.0</th>\n",
       "      <td>0</td>\n",
       "      <td>17</td>\n",
       "      <td>334.40</td>\n",
       "    </tr>\n",
       "  </tbody>\n",
       "</table>\n",
       "</div>"
      ],
      "text/plain": [
       "            CustomerAge  PurchaseFrequency  TotalSales\n",
       "CustomerID                                            \n",
       "12346.0               0                  1    77183.60\n",
       "12347.0             365                182     4310.00\n",
       "12348.0             282                 31     1797.24\n",
       "12349.0               0                 73     1757.55\n",
       "12350.0               0                 17      334.40"
      ]
     },
     "execution_count": 10,
     "metadata": {},
     "output_type": "execute_result"
    }
   ],
   "source": [
    "# Transaction level -> Customer level\n",
    "# Group by CustomerID, then calculate days between first and last purchase, number of purchases, and total sales\n",
    "customer_level = ltv_features.groupby('CustomerID').agg({'InvoiceDate': lambda x: (x.max() - x.min()).days,\n",
    "                                                         'InvoiceNo': lambda x: len(x),\n",
    "                                                         'TotalSales': lambda x: sum(x)})\n",
    "customer_level.columns = ['CustomerAge', 'PurchaseFrequency', 'TotalSales']\n",
    "customer_level.head()"
   ]
  },
  {
   "cell_type": "code",
   "execution_count": 11,
   "metadata": {},
   "outputs": [
    {
     "data": {
      "text/html": [
       "<div>\n",
       "<style scoped>\n",
       "    .dataframe tbody tr th:only-of-type {\n",
       "        vertical-align: middle;\n",
       "    }\n",
       "\n",
       "    .dataframe tbody tr th {\n",
       "        vertical-align: top;\n",
       "    }\n",
       "\n",
       "    .dataframe thead th {\n",
       "        text-align: right;\n",
       "    }\n",
       "</style>\n",
       "<table border=\"1\" class=\"dataframe\">\n",
       "  <thead>\n",
       "    <tr style=\"text-align: right;\">\n",
       "      <th></th>\n",
       "      <th>CustomerAge</th>\n",
       "      <th>PurchaseFrequency</th>\n",
       "      <th>TotalSales</th>\n",
       "    </tr>\n",
       "  </thead>\n",
       "  <tbody>\n",
       "    <tr>\n",
       "      <th>count</th>\n",
       "      <td>4338.000000</td>\n",
       "      <td>4338.000000</td>\n",
       "      <td>4338.000000</td>\n",
       "    </tr>\n",
       "    <tr>\n",
       "      <th>mean</th>\n",
       "      <td>130.448594</td>\n",
       "      <td>91.720609</td>\n",
       "      <td>2054.266460</td>\n",
       "    </tr>\n",
       "    <tr>\n",
       "      <th>std</th>\n",
       "      <td>132.039554</td>\n",
       "      <td>228.785094</td>\n",
       "      <td>8989.230441</td>\n",
       "    </tr>\n",
       "    <tr>\n",
       "      <th>min</th>\n",
       "      <td>0.000000</td>\n",
       "      <td>1.000000</td>\n",
       "      <td>3.750000</td>\n",
       "    </tr>\n",
       "    <tr>\n",
       "      <th>25%</th>\n",
       "      <td>0.000000</td>\n",
       "      <td>17.000000</td>\n",
       "      <td>307.415000</td>\n",
       "    </tr>\n",
       "    <tr>\n",
       "      <th>50%</th>\n",
       "      <td>92.500000</td>\n",
       "      <td>41.000000</td>\n",
       "      <td>674.485000</td>\n",
       "    </tr>\n",
       "    <tr>\n",
       "      <th>75%</th>\n",
       "      <td>251.750000</td>\n",
       "      <td>100.000000</td>\n",
       "      <td>1661.740000</td>\n",
       "    </tr>\n",
       "    <tr>\n",
       "      <th>max</th>\n",
       "      <td>373.000000</td>\n",
       "      <td>7847.000000</td>\n",
       "      <td>280206.020000</td>\n",
       "    </tr>\n",
       "  </tbody>\n",
       "</table>\n",
       "</div>"
      ],
      "text/plain": [
       "       CustomerAge  PurchaseFrequency     TotalSales\n",
       "count  4338.000000        4338.000000    4338.000000\n",
       "mean    130.448594          91.720609    2054.266460\n",
       "std     132.039554         228.785094    8989.230441\n",
       "min       0.000000           1.000000       3.750000\n",
       "25%       0.000000          17.000000     307.415000\n",
       "50%      92.500000          41.000000     674.485000\n",
       "75%     251.750000         100.000000    1661.740000\n",
       "max     373.000000        7847.000000  280206.020000"
      ]
     },
     "execution_count": 11,
     "metadata": {},
     "output_type": "execute_result"
    }
   ],
   "source": [
    "customer_level.describe()"
   ]
  },
  {
   "cell_type": "markdown",
   "metadata": {},
   "source": [
    "### Calculate Average LTV"
   ]
  },
  {
   "cell_type": "code",
   "execution_count": 12,
   "metadata": {},
   "outputs": [
    {
     "name": "stdout",
     "output_type": "stream",
     "text": [
      "Calculation: ((2054.2665 * 91.7206) / 0.0164) * 0.3\n",
      "Average LTV: $3,446,680.9\n"
     ]
    }
   ],
   "source": [
    "# Calculate average sales per purchase, purchase frequency, and churn rate\n",
    "average_sales = round(np.mean(customer_level['TotalSales']), 4)\n",
    "purchase_frequency = round(np.mean(customer_level['PurchaseFrequency']), 4)\n",
    "repeat_customer_count = customer_level[customer_level['PurchaseFrequency'] > 1].shape[0]\n",
    "churn_rate = round(1 - (repeat_customer_count / customer_level.shape[0]), 4)\n",
    "\n",
    "# Calculate LTV\n",
    "profit_margin = 0.3\n",
    "LTV = round((average_sales * purchase_frequency / churn_rate) * profit_margin, 2)\n",
    "print(f\"Calculation: (({average_sales} * {purchase_frequency}) / {churn_rate}) * {profit_margin}\")\n",
    "print(f\"Average LTV: ${LTV:,}\")"
   ]
  },
  {
   "cell_type": "markdown",
   "metadata": {},
   "source": [
    "### Limitations"
   ]
  },
  {
   "cell_type": "markdown",
   "metadata": {},
   "source": [
    "Consider the predicted LTV: $3.45 million. Does that feel reasonable? I don't believe so. Look at the stats for the `customer_level[TotalSales]` column. 75% of customers generated total revenue of less than $1661 (that is, the 75th percentile of customers have spent about $1661 so far.) The standard deviaion of `TotalSales` is a whopping $8989, which indicates a huge degree of spread in the underlying data. If we visualize the distribution of total sales, we can see that is indeed the case."
   ]
  },
  {
   "cell_type": "code",
   "execution_count": 13,
   "metadata": {},
   "outputs": [
    {
     "data": {
      "image/png": "[encoded data removed]",
      "text/plain": [
       "<Figure size 1200x600 with 1 Axes>"
      ]
     },
     "metadata": {},
     "output_type": "display_data"
    }
   ],
   "source": [
    "# Calculate mean, standard deviation, and quartiles\n",
    "mean_ts = customer_level['TotalSales'].mean()\n",
    "std_ts = customer_level['TotalSales'].std()\n",
    "quartiles_ts = customer_level['TotalSales'].quantile([0.25, 0.5, 0.75])\n",
    "\n",
    "# Plot the distribution\n",
    "plt.figure(figsize=(12, 6))\n",
    "plt.hist(customer_level['TotalSales'], bins=len(customer_level))\n",
    "plt.title('Distribution of Total Sales')\n",
    "plt.xlabel('Total Sales')\n",
    "plt.ylabel('Frequency')\n",
    "\n",
    "# Plot quartiles\n",
    "for q, value in quartiles_ts.items():\n",
    "    plt.axvline(value, color='purple', linestyle='--', label=f'{int(q*100)}th Percentile: ${value:,.2f}', alpha=0)\n",
    "\n",
    "# Plot mean\n",
    "plt.axvline(mean_ts, color='red', linestyle='-', label=f'Mean: ${mean_ts:,.2f}', alpha=0.2)\n",
    "\n",
    "plt.legend()\n",
    "plt.tight_layout()\n",
    "plt.show()"
   ]
  },
  {
   "cell_type": "markdown",
   "metadata": {},
   "source": [
    "Clearly, the vast majority of customers have a `TotalSales` value below $1,000. The distribution is right-skewed, with a long tail of high-value customers. We can see this high-value customers if we adjust the y-axis scale."
   ]
  },
  {
   "cell_type": "code",
   "execution_count": 14,
   "metadata": {},
   "outputs": [
    {
     "data": {
      "image/png": "[encoded data removed]",
      "text/plain": [
       "<Figure size 1200x600 with 1 Axes>"
      ]
     },
     "metadata": {},
     "output_type": "display_data"
    }
   ],
   "source": [
    "# Plot the distribution\n",
    "plt.figure(figsize=(12, 6))\n",
    "plt.hist(customer_level['TotalSales'], bins=len(customer_level))\n",
    "plt.yscale('log')\n",
    "plt.title('Distribution of Total Sales (Log Scale)')\n",
    "plt.xlabel('Total Sales')\n",
    "plt.ylabel('Frequency (Log Scale)')\n",
    "\n",
    "# Plot quartiles\n",
    "for q, value in quartiles_ts.items():\n",
    "    plt.axvline(value, color='purple', linestyle='--', label=f'{int(q*100)}th Percentile: ${value:,.2f}', alpha=0)\n",
    "\n",
    "# Plot mean\n",
    "plt.axvline(mean_ts, color='red', linestyle='-', label=f'Mean: ${mean_ts:,.2f}', alpha=0.2)\n",
    "\n",
    "plt.legend()\n",
    "plt.tight_layout()\n",
    "plt.show()"
   ]
  },
  {
   "cell_type": "markdown",
   "metadata": {},
   "source": [
    "This highlights the biggest issue with the average method: it returns a single value that can easily be skewed by outlier customers that spend a ton or barely any at all. We need a better method: one that calculates LTV for multiple subsets of customers. Enter the cohort method."
   ]
  },
  {
   "cell_type": "markdown",
   "metadata": {},
   "source": [
    "## Cohort Method\n",
    "\n",
    "Instead of lumping all customers together into one group, let's segment them into multiple groups and calculate a distinct LTV for each. This idea assume that customers in a group (cohort) share some trait that leads them to spend similarly. A common method is to create cohorts based on the date the customer first purchased, typically by month. In reality, the best choice for cohort delineation will depend on seasonality, what customer data is available, and the nature of the business. In this case, we'll try the common method of creating cohorts for each month."
   ]
  },
  {
   "cell_type": "markdown",
   "metadata": {},
   "source": [
    "### Prepping the Data"
   ]
  },
  {
   "cell_type": "code",
   "execution_count": 15,
   "metadata": {},
   "outputs": [
    {
     "data": {
      "text/html": [
       "<div>\n",
       "<style scoped>\n",
       "    .dataframe tbody tr th:only-of-type {\n",
       "        vertical-align: middle;\n",
       "    }\n",
       "\n",
       "    .dataframe tbody tr th {\n",
       "        vertical-align: top;\n",
       "    }\n",
       "\n",
       "    .dataframe thead th {\n",
       "        text-align: right;\n",
       "    }\n",
       "</style>\n",
       "<table border=\"1\" class=\"dataframe\">\n",
       "  <thead>\n",
       "    <tr style=\"text-align: right;\">\n",
       "      <th></th>\n",
       "      <th>StartMonth</th>\n",
       "      <th>PurchaseFrequency</th>\n",
       "      <th>TotalSales</th>\n",
       "    </tr>\n",
       "    <tr>\n",
       "      <th>CustomerID</th>\n",
       "      <th></th>\n",
       "      <th></th>\n",
       "      <th></th>\n",
       "    </tr>\n",
       "  </thead>\n",
       "  <tbody>\n",
       "    <tr>\n",
       "      <th>12346.0</th>\n",
       "      <td>1</td>\n",
       "      <td>1</td>\n",
       "      <td>77183.60</td>\n",
       "    </tr>\n",
       "    <tr>\n",
       "      <th>12347.0</th>\n",
       "      <td>12</td>\n",
       "      <td>182</td>\n",
       "      <td>4310.00</td>\n",
       "    </tr>\n",
       "    <tr>\n",
       "      <th>12348.0</th>\n",
       "      <td>12</td>\n",
       "      <td>31</td>\n",
       "      <td>1797.24</td>\n",
       "    </tr>\n",
       "    <tr>\n",
       "      <th>12349.0</th>\n",
       "      <td>11</td>\n",
       "      <td>73</td>\n",
       "      <td>1757.55</td>\n",
       "    </tr>\n",
       "    <tr>\n",
       "      <th>12350.0</th>\n",
       "      <td>2</td>\n",
       "      <td>17</td>\n",
       "      <td>334.40</td>\n",
       "    </tr>\n",
       "  </tbody>\n",
       "</table>\n",
       "</div>"
      ],
      "text/plain": [
       "            StartMonth  PurchaseFrequency  TotalSales\n",
       "CustomerID                                           \n",
       "12346.0              1                  1    77183.60\n",
       "12347.0             12                182     4310.00\n",
       "12348.0             12                 31     1797.24\n",
       "12349.0             11                 73     1757.55\n",
       "12350.0              2                 17      334.40"
      ]
     },
     "execution_count": 15,
     "metadata": {},
     "output_type": "execute_result"
    }
   ],
   "source": [
    "customer_level_cohort = ltv_features.groupby('CustomerID').agg({'InvoiceDate': lambda x: x.min().month,\n",
    "                                                                'InvoiceNo': lambda x: len(x),\n",
    "                                                                'TotalSales': lambda x: sum(x)})\n",
    "customer_level_cohort.columns = ['StartMonth', 'PurchaseFrequency', 'TotalSales']\n",
    "customer_level_cohort.head()"
   ]
  },
  {
   "cell_type": "code",
   "execution_count": 16,
   "metadata": {},
   "outputs": [
    {
     "data": {
      "text/html": [
       "<div>\n",
       "<style scoped>\n",
       "    .dataframe tbody tr th:only-of-type {\n",
       "        vertical-align: middle;\n",
       "    }\n",
       "\n",
       "    .dataframe tbody tr th {\n",
       "        vertical-align: top;\n",
       "    }\n",
       "\n",
       "    .dataframe thead th {\n",
       "        text-align: right;\n",
       "    }\n",
       "</style>\n",
       "<table border=\"1\" class=\"dataframe\">\n",
       "  <thead>\n",
       "    <tr style=\"text-align: right;\">\n",
       "      <th></th>\n",
       "      <th>StartMonth</th>\n",
       "      <th>PurchaseFrequency</th>\n",
       "      <th>TotalSales</th>\n",
       "    </tr>\n",
       "  </thead>\n",
       "  <tbody>\n",
       "    <tr>\n",
       "      <th>count</th>\n",
       "      <td>4338.000000</td>\n",
       "      <td>4338.000000</td>\n",
       "      <td>4338.000000</td>\n",
       "    </tr>\n",
       "    <tr>\n",
       "      <th>mean</th>\n",
       "      <td>6.963808</td>\n",
       "      <td>91.720609</td>\n",
       "      <td>2054.266460</td>\n",
       "    </tr>\n",
       "    <tr>\n",
       "      <th>std</th>\n",
       "      <td>3.980623</td>\n",
       "      <td>228.785094</td>\n",
       "      <td>8989.230441</td>\n",
       "    </tr>\n",
       "    <tr>\n",
       "      <th>min</th>\n",
       "      <td>1.000000</td>\n",
       "      <td>1.000000</td>\n",
       "      <td>3.750000</td>\n",
       "    </tr>\n",
       "    <tr>\n",
       "      <th>25%</th>\n",
       "      <td>3.000000</td>\n",
       "      <td>17.000000</td>\n",
       "      <td>307.415000</td>\n",
       "    </tr>\n",
       "    <tr>\n",
       "      <th>50%</th>\n",
       "      <td>7.000000</td>\n",
       "      <td>41.000000</td>\n",
       "      <td>674.485000</td>\n",
       "    </tr>\n",
       "    <tr>\n",
       "      <th>75%</th>\n",
       "      <td>11.000000</td>\n",
       "      <td>100.000000</td>\n",
       "      <td>1661.740000</td>\n",
       "    </tr>\n",
       "    <tr>\n",
       "      <th>max</th>\n",
       "      <td>12.000000</td>\n",
       "      <td>7847.000000</td>\n",
       "      <td>280206.020000</td>\n",
       "    </tr>\n",
       "  </tbody>\n",
       "</table>\n",
       "</div>"
      ],
      "text/plain": [
       "        StartMonth  PurchaseFrequency     TotalSales\n",
       "count  4338.000000        4338.000000    4338.000000\n",
       "mean      6.963808          91.720609    2054.266460\n",
       "std       3.980623         228.785094    8989.230441\n",
       "min       1.000000           1.000000       3.750000\n",
       "25%       3.000000          17.000000     307.415000\n",
       "50%       7.000000          41.000000     674.485000\n",
       "75%      11.000000         100.000000    1661.740000\n",
       "max      12.000000        7847.000000  280206.020000"
      ]
     },
     "execution_count": 16,
     "metadata": {},
     "output_type": "execute_result"
    }
   ],
   "source": [
    "customer_level_cohort.describe()"
   ]
  },
  {
   "cell_type": "markdown",
   "metadata": {},
   "source": [
    "Now that we have customers organized by the month they first purchased, let's calculate LTV for each cohort"
   ]
  },
  {
   "cell_type": "markdown",
   "metadata": {},
   "source": [
    "### Calculate Cohort LTV"
   ]
  },
  {
   "cell_type": "code",
   "execution_count": 17,
   "metadata": {},
   "outputs": [
    {
     "name": "stdout",
     "output_type": "stream",
     "text": [
      "Jan cohort LTV: $6,443,831.07\n",
      "Feb cohort LTV: $1,780,555.18\n",
      "Mar cohort LTV: $2,918,409.70\n",
      "Apr cohort LTV: $1,575,393.96\n",
      "May cohort LTV: $838,114.33\n",
      "Jun cohort LTV: $2,340,688.84\n",
      "Jul cohort LTV: $404,930.74\n",
      "Aug cohort LTV: $905,033.45\n",
      "Sep cohort LTV: $1,110,964.89\n",
      "Oct cohort LTV: $617,331.39\n",
      "Nov cohort LTV: $289,482.69\n",
      "Dec cohort LTV: $20,803,933.73\n"
     ]
    }
   ],
   "source": [
    "months = ['Jan', 'Feb', 'Mar', 'Apr', 'May', 'Jun', 'Jul', 'Aug', 'Sep', 'Oct', 'Nov', 'Dec']\n",
    "monthly_cohort_ltvs = []\n",
    "\n",
    "for month_idx in range(1, 13):\n",
    "    # Get all customers who started in month_idx\n",
    "    customer_cohort = customer_level_cohort[customer_level_cohort['StartMonth'] == month_idx]\n",
    "    average_sales = round(np.mean(customer_cohort['TotalSales']), 4)\n",
    "    purchase_frequency = round(np.mean(customer_cohort['PurchaseFrequency']), 4)\n",
    "    repeat_customer_count = customer_cohort[customer_cohort['PurchaseFrequency'] > 1].shape[0]\n",
    "    churn_rate = round(1 - (repeat_customer_count / customer_cohort.shape[0]), 4)\n",
    "\n",
    "    current_ltv = round((average_sales * purchase_frequency / churn_rate) * profit_margin, 2)\n",
    "    monthly_cohort_ltvs.append(current_ltv)\n",
    "\n",
    "cohort_ltv_df = pd.DataFrame(zip(months, monthly_cohort_ltvs), columns=['Month', 'LTV'])\n",
    "for cohort in cohort_ltv_df.itertuples():\n",
    "    print(f\"{cohort.Month} cohort LTV: ${cohort.LTV:,.2f}\")"
   ]
  },
  {
   "cell_type": "markdown",
   "metadata": {},
   "source": [
    "Now we have 12 LTVs, one for each cohort. Notice the range: a min of $289k, and a max of $20.8m! Judging by the wildly high values in December and January, it appears that many of our high-value customers first purchased in those two months. This seems appropriate given that December-January is considered the Christmas/New Year's holiday season, when retailers are most likely to purchase stock in bulk from gift manufacturers like our business here. \n",
    "\n",
    "However, we want to be even more accurate and calculate a unique LTV for each customer. Enter the BG/NBD + GG method."
   ]
  },
  {
   "cell_type": "markdown",
   "metadata": {},
   "source": [
    "## BG/NBD + GG Method\n",
    "\n",
    "BG/NBD + GG stands for \"Beta Geometric/Negative Binomial Distribution with Gamma Gamma extension\". BG/NBD is a widely used probabilistic model that predicts customer purchase behavior based on historical transaction. With the Gamma Gamma extension, we can convert purchase behavior to a lifetime monetary value.\n",
    "\n",
    "The BG/NBD model has 3 key assumptions:\n",
    "1. Purchase process: Each customer has a Poisson purchase rate, which varies across the population and follows a Gamma distribution\n",
    "2. Churn process: Each customer has a probabilty of churning after a purchase, which follows a Beta distribution\n",
    "3. Customer behavior: Customers are indendent of each other and do not affect one another's purchasing decisions\n",
    "\n",
    "The BG/NBD model intakes customer x's purchase frequency (number of repeat purchases) and purchase recency (time since last purchase) as inputs. It combines those with the purchase rate and churn probability, and infers the likelihood that a customer will purchase again and when they will churn.\n",
    "\n",
    "The GG extension goes beyond this to infer a monetary value. \n",
    "\n",
    "The GG extension assumes:\n",
    "1. Each customer has an average transaction value, and each transaction amount randomly varies around the average according to a Gamma distribution\n",
    "2. Average transaction value varies across customers, but does not vary over time for a given customer\n",
    "2. Monetary value of a transaction is independent of purchase frequency\n",
    "\n",
    "There's a ton of math and a lot of hyperparameters under the hood here, and it gets quite complicated. Lucky for us, there's a Python package called `Lifetimes` which handles everything for us."
   ]
  },
  {
   "cell_type": "markdown",
   "metadata": {},
   "source": [
    "### Prepping the Data"
   ]
  },
  {
   "cell_type": "markdown",
   "metadata": {},
   "source": [
    "To tackle this method, we need to first create a summary table, composed of recency, frequency, and monetary value columns. This would normally require a lot of reformatting and coercing, but `Lifetimes` has a great utility function `summary_data_from_transactions_data` that will abstract this process for us! This func aggregates the transaction level data into customer level data, then calculates the frequency, recency, time duration, and monetary value for each customer. More precisely, this func calculates:\\\n",
    "- frequency: the number of repeat purchases\n",
    "- recency: the time between the first and latest transaction\n",
    "- T: the time between first purchase and end of the transaction period\n",
    "- monetary_value: the mean of a customer's sales value"
   ]
  },
  {
   "cell_type": "code",
   "execution_count": 18,
   "metadata": {},
   "outputs": [
    {
     "data": {
      "text/html": [
       "<div>\n",
       "<style scoped>\n",
       "    .dataframe tbody tr th:only-of-type {\n",
       "        vertical-align: middle;\n",
       "    }\n",
       "\n",
       "    .dataframe tbody tr th {\n",
       "        vertical-align: top;\n",
       "    }\n",
       "\n",
       "    .dataframe thead th {\n",
       "        text-align: right;\n",
       "    }\n",
       "</style>\n",
       "<table border=\"1\" class=\"dataframe\">\n",
       "  <thead>\n",
       "    <tr style=\"text-align: right;\">\n",
       "      <th></th>\n",
       "      <th>frequency</th>\n",
       "      <th>recency</th>\n",
       "      <th>T</th>\n",
       "      <th>monetary_value</th>\n",
       "    </tr>\n",
       "    <tr>\n",
       "      <th>CustomerID</th>\n",
       "      <th></th>\n",
       "      <th></th>\n",
       "      <th></th>\n",
       "      <th></th>\n",
       "    </tr>\n",
       "  </thead>\n",
       "  <tbody>\n",
       "    <tr>\n",
       "      <th>12346.0</th>\n",
       "      <td>0.0</td>\n",
       "      <td>0.0</td>\n",
       "      <td>325.0</td>\n",
       "      <td>0.000000</td>\n",
       "    </tr>\n",
       "    <tr>\n",
       "      <th>12347.0</th>\n",
       "      <td>6.0</td>\n",
       "      <td>365.0</td>\n",
       "      <td>367.0</td>\n",
       "      <td>599.701667</td>\n",
       "    </tr>\n",
       "    <tr>\n",
       "      <th>12348.0</th>\n",
       "      <td>3.0</td>\n",
       "      <td>283.0</td>\n",
       "      <td>358.0</td>\n",
       "      <td>301.480000</td>\n",
       "    </tr>\n",
       "    <tr>\n",
       "      <th>12349.0</th>\n",
       "      <td>0.0</td>\n",
       "      <td>0.0</td>\n",
       "      <td>18.0</td>\n",
       "      <td>0.000000</td>\n",
       "    </tr>\n",
       "    <tr>\n",
       "      <th>12350.0</th>\n",
       "      <td>0.0</td>\n",
       "      <td>0.0</td>\n",
       "      <td>310.0</td>\n",
       "      <td>0.000000</td>\n",
       "    </tr>\n",
       "  </tbody>\n",
       "</table>\n",
       "</div>"
      ],
      "text/plain": [
       "            frequency  recency      T  monetary_value\n",
       "CustomerID                                           \n",
       "12346.0           0.0      0.0  325.0        0.000000\n",
       "12347.0           6.0    365.0  367.0      599.701667\n",
       "12348.0           3.0    283.0  358.0      301.480000\n",
       "12349.0           0.0      0.0   18.0        0.000000\n",
       "12350.0           0.0      0.0  310.0        0.000000"
      ]
     },
     "execution_count": 18,
     "metadata": {},
     "output_type": "execute_result"
    }
   ],
   "source": [
    "# pip install lifetimes\n",
    "import lifetimes as lt\n",
    "summary_data = lt.utils.summary_data_from_transaction_data(ltv_features, 'CustomerID', 'InvoiceDate', 'TotalSales')\n",
    "summary_data.reset_index()\n",
    "summary_data.head()"
   ]
  },
  {
   "cell_type": "markdown",
   "metadata": {},
   "source": [
    "A customer with 0 in `frequency` and `recency` is a one-time purchaser--they did not make multiple purchases, therefore their `frequency` is 0. The `monetary_value` of these customers is assumed to be 0, because there is no indication that these customers will make repeat purchases. For all intents and purposes, these customers have already churned. In retail datasets like this, it's common to have a high ratio of one-time purchasers. In datasets based on subscription products, the ratio of one-time purchasers is typically lower due to the nature of a recurring subscription. Let's check how many one-time purchasers are in our dataset."
   ]
  },
  {
   "cell_type": "code",
   "execution_count": 19,
   "metadata": {},
   "outputs": [
    {
     "name": "stdout",
     "output_type": "stream",
     "text": [
      "count    4338.000000\n",
      "mean        2.864223\n",
      "std         5.949000\n",
      "min         0.000000\n",
      "25%         0.000000\n",
      "50%         1.000000\n",
      "75%         3.000000\n",
      "max       131.000000\n",
      "Name: frequency, dtype: float64\n",
      "----------------------------------------------\n",
      "One-time purchasers: 35.68%\n"
     ]
    },
    {
     "data": {
      "image/png": "[encoded data removed]",
      "text/plain": [
       "<Figure size 640x480 with 1 Axes>"
      ]
     },
     "metadata": {},
     "output_type": "display_data"
    }
   ],
   "source": [
    "summary_data['frequency'].plot(kind='hist', bins=100)\n",
    "print(summary_data['frequency'].describe())\n",
    "print(\"----------------------------------------------\")\n",
    "one_time_purchasers = round(sum(summary_data['frequency'] == 0) / float(len(summary_data)) * 100, 2)\n",
    "print(f\"One-time purchasers: {one_time_purchasers}%\")"
   ]
  },
  {
   "cell_type": "markdown",
   "metadata": {},
   "source": [
    "Looks like the median frequency value is 1, which we can interpret as being a single-repeat-purchaser. 35.7% of our customers are one-time purchasers.\\\n",
    "Now that we know what the distribution of our data looks like, let's fit the BG/NBD model."
   ]
  },
  {
   "cell_type": "markdown",
   "metadata": {},
   "source": [
    "### Fit the Model"
   ]
  },
  {
   "cell_type": "code",
   "execution_count": 20,
   "metadata": {},
   "outputs": [
    {
     "data": {
      "text/html": [
       "<div>\n",
       "<style scoped>\n",
       "    .dataframe tbody tr th:only-of-type {\n",
       "        vertical-align: middle;\n",
       "    }\n",
       "\n",
       "    .dataframe tbody tr th {\n",
       "        vertical-align: top;\n",
       "    }\n",
       "\n",
       "    .dataframe thead th {\n",
       "        text-align: right;\n",
       "    }\n",
       "</style>\n",
       "<table border=\"1\" class=\"dataframe\">\n",
       "  <thead>\n",
       "    <tr style=\"text-align: right;\">\n",
       "      <th></th>\n",
       "      <th>coef</th>\n",
       "      <th>se(coef)</th>\n",
       "      <th>lower 95% bound</th>\n",
       "      <th>upper 95% bound</th>\n",
       "    </tr>\n",
       "  </thead>\n",
       "  <tbody>\n",
       "    <tr>\n",
       "      <th>r</th>\n",
       "      <td>0.826542</td>\n",
       "      <td>0.026785</td>\n",
       "      <td>0.774044</td>\n",
       "      <td>0.879040</td>\n",
       "    </tr>\n",
       "    <tr>\n",
       "      <th>alpha</th>\n",
       "      <td>68.905121</td>\n",
       "      <td>2.611786</td>\n",
       "      <td>63.786020</td>\n",
       "      <td>74.024221</td>\n",
       "    </tr>\n",
       "    <tr>\n",
       "      <th>a</th>\n",
       "      <td>0.003437</td>\n",
       "      <td>0.010339</td>\n",
       "      <td>-0.016828</td>\n",
       "      <td>0.023702</td>\n",
       "    </tr>\n",
       "    <tr>\n",
       "      <th>b</th>\n",
       "      <td>6.745116</td>\n",
       "      <td>22.414725</td>\n",
       "      <td>-37.187745</td>\n",
       "      <td>50.677978</td>\n",
       "    </tr>\n",
       "  </tbody>\n",
       "</table>\n",
       "</div>"
      ],
      "text/plain": [
       "            coef   se(coef)  lower 95% bound  upper 95% bound\n",
       "r       0.826542   0.026785         0.774044         0.879040\n",
       "alpha  68.905121   2.611786        63.786020        74.024221\n",
       "a       0.003437   0.010339        -0.016828         0.023702\n",
       "b       6.745116  22.414725       -37.187745        50.677978"
      ]
     },
     "execution_count": 20,
     "metadata": {},
     "output_type": "execute_result"
    }
   ],
   "source": [
    "bgf_classifier = lt.BetaGeoFitter(penalizer_coef=0.0)\n",
    "bgf_classifier.fit(summary_data['frequency'], summary_data['recency'], summary_data['T'])\n",
    "bgf_classifier.summary"
   ]
  },
  {
   "cell_type": "markdown",
   "metadata": {},
   "source": [
    "These summary values show the learned hyperparameter distributions. The model can now use these to predict future transactions and churn likelihood. To do this, we can use two convinient methods from `Lifetimes`:\n",
    "1. `model.conditional_probability_alive()`: computes the probability that a customer with history (`frequency`, `recency`, `T`) is currently alive (IE not churned)\n",
    "2. `plot_probability_alive_matrix(model)`: plots the relationships between frequency, recency, and the customer's 'alive likelihood'"
   ]
  },
  {
   "cell_type": "code",
   "execution_count": 21,
   "metadata": {},
   "outputs": [
    {
     "name": "stdout",
     "output_type": "stream",
     "text": [
      "            frequency  recency      T  monetary_value  probability_alive\n",
      "CustomerID                                                              \n",
      "12346.0           0.0      0.0  325.0        0.000000           1.000000\n",
      "12347.0           6.0    365.0  367.0      599.701667           0.999698\n",
      "12348.0           3.0    283.0  358.0      301.480000           0.999177\n",
      "12349.0           0.0      0.0   18.0        0.000000           1.000000\n",
      "12350.0           0.0      0.0  310.0        0.000000           1.000000\n",
      "12352.0           6.0    260.0  296.0      368.256667           0.999406\n",
      "12353.0           0.0      0.0  204.0        0.000000           1.000000\n",
      "12354.0           0.0      0.0  232.0        0.000000           1.000000\n",
      "12355.0           0.0      0.0  214.0        0.000000           1.000000\n",
      "12356.0           2.0    303.0  325.0      269.905000           0.999478\n"
     ]
    },
    {
     "data": {
      "text/plain": [
       "<Axes: title={'center': 'Probability Customer is Alive,\\nby Frequency and Recency of a Customer'}, xlabel=\"Customer's Historical Frequency\", ylabel=\"Customer's Recency\">"
      ]
     },
     "execution_count": 21,
     "metadata": {},
     "output_type": "execute_result"
    },
    {
     "data": {
      "image/png": "[encoded data removed]",
      "text/plain": [
       "<Figure size 1200x800 with 2 Axes>"
      ]
     },
     "metadata": {},
     "output_type": "display_data"
    }
   ],
   "source": [
    "from lifetimes.plotting import plot_probability_alive_matrix\n",
    "summary_data['probability_alive'] = bgf_classifier.conditional_probability_alive(summary_data['frequency'], \n",
    "                                                                                 summary_data['recency'], \n",
    "                                                                                 summary_data['T'])\n",
    "print(summary_data.head(10))\n",
    "\n",
    "alive_fig = plt.figure(figsize=(12, 8))\n",
    "plot_probability_alive_matrix(bgf_classifier)"
   ]
  },
  {
   "cell_type": "markdown",
   "metadata": {},
   "source": [
    "This is a complex graph, so let's break it down. The probabilty of a customer being alive is calculated based on the `recency` and `frequency` of that customer:\n",
    "- If a customer has bought multiple times (`frequency`) and the time between first and most recent transactions is high (`recency`), then the probability of that customer being alive is high.\n",
    "- Similarly, if a customer has a lower `frequency` (only purchased once or twice) and a low `recency` (time between first and most recent purchase), then the probability of that customer being alive is high.\n",
    "\n",
    "The next thing we can do with this model is predict future transactions for the next `t` days for each customer:"
   ]
  },
  {
   "cell_type": "code",
   "execution_count": 22,
   "metadata": {},
   "outputs": [
    {
     "data": {
      "text/html": [
       "<div>\n",
       "<style scoped>\n",
       "    .dataframe tbody tr th:only-of-type {\n",
       "        vertical-align: middle;\n",
       "    }\n",
       "\n",
       "    .dataframe tbody tr th {\n",
       "        vertical-align: top;\n",
       "    }\n",
       "\n",
       "    .dataframe thead th {\n",
       "        text-align: right;\n",
       "    }\n",
       "</style>\n",
       "<table border=\"1\" class=\"dataframe\">\n",
       "  <thead>\n",
       "    <tr style=\"text-align: right;\">\n",
       "      <th></th>\n",
       "      <th>CustomerID</th>\n",
       "      <th>frequency</th>\n",
       "      <th>recency</th>\n",
       "      <th>T</th>\n",
       "      <th>monetary_value</th>\n",
       "      <th>probability_alive</th>\n",
       "      <th>pred_purchase_count</th>\n",
       "    </tr>\n",
       "  </thead>\n",
       "  <tbody>\n",
       "    <tr>\n",
       "      <th>0</th>\n",
       "      <td>14911.0</td>\n",
       "      <td>131.0</td>\n",
       "      <td>372.0</td>\n",
       "      <td>373.0</td>\n",
       "      <td>1093.661679</td>\n",
       "      <td>0.999966</td>\n",
       "      <td>8.95</td>\n",
       "    </tr>\n",
       "    <tr>\n",
       "      <th>1</th>\n",
       "      <td>12748.0</td>\n",
       "      <td>112.0</td>\n",
       "      <td>373.0</td>\n",
       "      <td>373.0</td>\n",
       "      <td>301.024821</td>\n",
       "      <td>0.999971</td>\n",
       "      <td>7.66</td>\n",
       "    </tr>\n",
       "    <tr>\n",
       "      <th>2</th>\n",
       "      <td>17841.0</td>\n",
       "      <td>111.0</td>\n",
       "      <td>372.0</td>\n",
       "      <td>373.0</td>\n",
       "      <td>364.452162</td>\n",
       "      <td>0.999962</td>\n",
       "      <td>7.59</td>\n",
       "    </tr>\n",
       "    <tr>\n",
       "      <th>3</th>\n",
       "      <td>15311.0</td>\n",
       "      <td>89.0</td>\n",
       "      <td>373.0</td>\n",
       "      <td>373.0</td>\n",
       "      <td>677.729438</td>\n",
       "      <td>0.999964</td>\n",
       "      <td>6.10</td>\n",
       "    </tr>\n",
       "    <tr>\n",
       "      <th>4</th>\n",
       "      <td>14606.0</td>\n",
       "      <td>88.0</td>\n",
       "      <td>372.0</td>\n",
       "      <td>373.0</td>\n",
       "      <td>135.890114</td>\n",
       "      <td>0.999955</td>\n",
       "      <td>6.03</td>\n",
       "    </tr>\n",
       "    <tr>\n",
       "      <th>5</th>\n",
       "      <td>12971.0</td>\n",
       "      <td>70.0</td>\n",
       "      <td>369.0</td>\n",
       "      <td>372.0</td>\n",
       "      <td>159.211286</td>\n",
       "      <td>0.999926</td>\n",
       "      <td>4.82</td>\n",
       "    </tr>\n",
       "    <tr>\n",
       "      <th>6</th>\n",
       "      <td>13089.0</td>\n",
       "      <td>65.0</td>\n",
       "      <td>367.0</td>\n",
       "      <td>369.0</td>\n",
       "      <td>893.714308</td>\n",
       "      <td>0.999934</td>\n",
       "      <td>4.51</td>\n",
       "    </tr>\n",
       "    <tr>\n",
       "      <th>7</th>\n",
       "      <td>14527.0</td>\n",
       "      <td>53.0</td>\n",
       "      <td>367.0</td>\n",
       "      <td>369.0</td>\n",
       "      <td>155.016415</td>\n",
       "      <td>0.999925</td>\n",
       "      <td>3.69</td>\n",
       "    </tr>\n",
       "    <tr>\n",
       "      <th>8</th>\n",
       "      <td>13798.0</td>\n",
       "      <td>52.0</td>\n",
       "      <td>371.0</td>\n",
       "      <td>372.0</td>\n",
       "      <td>706.650962</td>\n",
       "      <td>0.999933</td>\n",
       "      <td>3.59</td>\n",
       "    </tr>\n",
       "    <tr>\n",
       "      <th>9</th>\n",
       "      <td>16422.0</td>\n",
       "      <td>47.0</td>\n",
       "      <td>352.0</td>\n",
       "      <td>369.0</td>\n",
       "      <td>702.472340</td>\n",
       "      <td>0.999567</td>\n",
       "      <td>3.27</td>\n",
       "    </tr>\n",
       "  </tbody>\n",
       "</table>\n",
       "</div>"
      ],
      "text/plain": [
       "   CustomerID  frequency  recency      T  monetary_value  probability_alive  \\\n",
       "0     14911.0      131.0    372.0  373.0     1093.661679           0.999966   \n",
       "1     12748.0      112.0    373.0  373.0      301.024821           0.999971   \n",
       "2     17841.0      111.0    372.0  373.0      364.452162           0.999962   \n",
       "3     15311.0       89.0    373.0  373.0      677.729438           0.999964   \n",
       "4     14606.0       88.0    372.0  373.0      135.890114           0.999955   \n",
       "5     12971.0       70.0    369.0  372.0      159.211286           0.999926   \n",
       "6     13089.0       65.0    367.0  369.0      893.714308           0.999934   \n",
       "7     14527.0       53.0    367.0  369.0      155.016415           0.999925   \n",
       "8     13798.0       52.0    371.0  372.0      706.650962           0.999933   \n",
       "9     16422.0       47.0    352.0  369.0      702.472340           0.999567   \n",
       "\n",
       "   pred_purchase_count  \n",
       "0                 8.95  \n",
       "1                 7.66  \n",
       "2                 7.59  \n",
       "3                 6.10  \n",
       "4                 6.03  \n",
       "5                 4.82  \n",
       "6                 4.51  \n",
       "7                 3.69  \n",
       "8                 3.59  \n",
       "9                 3.27  "
      ]
     },
     "execution_count": 22,
     "metadata": {},
     "output_type": "execute_result"
    }
   ],
   "source": [
    "t = 30\n",
    "summary_data['pred_purchase_count'] = round(bgf_classifier.conditional_expected_number_of_purchases_up_to_time(t,\n",
    "                                                                                                               summary_data['frequency'], summary_data['recency'], summary_data['T']), 2)\n",
    "summary_data.sort_values(by='pred_purchase_count', ascending=False).head(10).reset_index()"
   ]
  },
  {
   "cell_type": "markdown",
   "metadata": {},
   "source": [
    "We now have the predicted number of transactions each customer will make in the next `t` days.\\\n",
    "To do a quick sanity check, we can use a heuristic:\n",
    "1. Let's take a random customer (CustomerID 12971). Over the course of 372 days, this customer purchased 70 times.\n",
    "2. Thus, on average, the customer purchases 70/372 = 0.18817 items in a day. \n",
    "3. Multiply that by `t`, and we get 30 * 0.18817 = 5.6451 items purchased.\n",
    "\n",
    "To abstract the heuristic, we have\\\n",
    "$Rough Purchase Estimate = (Frequency \\div Recency) \\times t$\n",
    "\n",
    "We can then anecdotally evaluate how much of a difference there is between `pred_purchase_count` and RoughPurchaseEstimate. There will always be some amount of difference, caused by the underlying assumptions in the model--churn rate, Gamma and Beta distributions, etc."
   ]
  },
  {
   "cell_type": "markdown",
   "metadata": {},
   "source": [
    "### Calculate Monetary Value"
   ]
  },
  {
   "cell_type": "markdown",
   "metadata": {},
   "source": [
    "Now that we've predicted future purchases, we can use the GG model to predict the monetary value. But before we can fit the GG model, we need to verify that the assumptions underlying the model hold true in our data. Of the 3 assumptions noted at the section header, only the 3rd (monetary value and purchase frequency are independent) can be verified. This can be easily checked by calculating the Pearson correlation. To check the correlation, we will only consider repeat customers, because one-time customers are already considered churned."
   ]
  },
  {
   "cell_type": "code",
   "execution_count": 23,
   "metadata": {},
   "outputs": [
    {
     "name": "stdout",
     "output_type": "stream",
     "text": [
      "(2790, 6)\n"
     ]
    },
    {
     "data": {
      "text/html": [
       "<div>\n",
       "<style scoped>\n",
       "    .dataframe tbody tr th:only-of-type {\n",
       "        vertical-align: middle;\n",
       "    }\n",
       "\n",
       "    .dataframe tbody tr th {\n",
       "        vertical-align: top;\n",
       "    }\n",
       "\n",
       "    .dataframe thead th {\n",
       "        text-align: right;\n",
       "    }\n",
       "</style>\n",
       "<table border=\"1\" class=\"dataframe\">\n",
       "  <thead>\n",
       "    <tr style=\"text-align: right;\">\n",
       "      <th></th>\n",
       "      <th>frequency</th>\n",
       "      <th>recency</th>\n",
       "      <th>T</th>\n",
       "      <th>monetary_value</th>\n",
       "      <th>probability_alive</th>\n",
       "      <th>pred_purchase_count</th>\n",
       "    </tr>\n",
       "    <tr>\n",
       "      <th>CustomerID</th>\n",
       "      <th></th>\n",
       "      <th></th>\n",
       "      <th></th>\n",
       "      <th></th>\n",
       "      <th></th>\n",
       "      <th></th>\n",
       "    </tr>\n",
       "  </thead>\n",
       "  <tbody>\n",
       "    <tr>\n",
       "      <th>12347.0</th>\n",
       "      <td>6.0</td>\n",
       "      <td>365.0</td>\n",
       "      <td>367.0</td>\n",
       "      <td>599.701667</td>\n",
       "      <td>0.999698</td>\n",
       "      <td>0.47</td>\n",
       "    </tr>\n",
       "    <tr>\n",
       "      <th>12348.0</th>\n",
       "      <td>3.0</td>\n",
       "      <td>283.0</td>\n",
       "      <td>358.0</td>\n",
       "      <td>301.480000</td>\n",
       "      <td>0.999177</td>\n",
       "      <td>0.27</td>\n",
       "    </tr>\n",
       "    <tr>\n",
       "      <th>12352.0</th>\n",
       "      <td>6.0</td>\n",
       "      <td>260.0</td>\n",
       "      <td>296.0</td>\n",
       "      <td>368.256667</td>\n",
       "      <td>0.999406</td>\n",
       "      <td>0.56</td>\n",
       "    </tr>\n",
       "    <tr>\n",
       "      <th>12356.0</th>\n",
       "      <td>2.0</td>\n",
       "      <td>303.0</td>\n",
       "      <td>325.0</td>\n",
       "      <td>269.905000</td>\n",
       "      <td>0.999478</td>\n",
       "      <td>0.22</td>\n",
       "    </tr>\n",
       "    <tr>\n",
       "      <th>12358.0</th>\n",
       "      <td>1.0</td>\n",
       "      <td>149.0</td>\n",
       "      <td>150.0</td>\n",
       "      <td>683.200000</td>\n",
       "      <td>0.999486</td>\n",
       "      <td>0.25</td>\n",
       "    </tr>\n",
       "  </tbody>\n",
       "</table>\n",
       "</div>"
      ],
      "text/plain": [
       "            frequency  recency      T  monetary_value  probability_alive  \\\n",
       "CustomerID                                                                 \n",
       "12347.0           6.0    365.0  367.0      599.701667           0.999698   \n",
       "12348.0           3.0    283.0  358.0      301.480000           0.999177   \n",
       "12352.0           6.0    260.0  296.0      368.256667           0.999406   \n",
       "12356.0           2.0    303.0  325.0      269.905000           0.999478   \n",
       "12358.0           1.0    149.0  150.0      683.200000           0.999486   \n",
       "\n",
       "            pred_purchase_count  \n",
       "CustomerID                       \n",
       "12347.0                    0.47  \n",
       "12348.0                    0.27  \n",
       "12352.0                    0.56  \n",
       "12356.0                    0.22  \n",
       "12358.0                    0.25  "
      ]
     },
     "execution_count": 23,
     "metadata": {},
     "output_type": "execute_result"
    }
   ],
   "source": [
    "repeat_customers_summary = summary_data[summary_data['frequency'] > 0]\n",
    "print(repeat_customers_summary.shape)\n",
    "repeat_customers_summary.head()"
   ]
  },
  {
   "cell_type": "code",
   "execution_count": 24,
   "metadata": {},
   "outputs": [
    {
     "data": {
      "text/html": [
       "<div>\n",
       "<style scoped>\n",
       "    .dataframe tbody tr th:only-of-type {\n",
       "        vertical-align: middle;\n",
       "    }\n",
       "\n",
       "    .dataframe tbody tr th {\n",
       "        vertical-align: top;\n",
       "    }\n",
       "\n",
       "    .dataframe thead th {\n",
       "        text-align: right;\n",
       "    }\n",
       "</style>\n",
       "<table border=\"1\" class=\"dataframe\">\n",
       "  <thead>\n",
       "    <tr style=\"text-align: right;\">\n",
       "      <th></th>\n",
       "      <th>frequency</th>\n",
       "      <th>monetary_value</th>\n",
       "    </tr>\n",
       "  </thead>\n",
       "  <tbody>\n",
       "    <tr>\n",
       "      <th>frequency</th>\n",
       "      <td>1.000000</td>\n",
       "      <td>0.015906</td>\n",
       "    </tr>\n",
       "    <tr>\n",
       "      <th>monetary_value</th>\n",
       "      <td>0.015906</td>\n",
       "      <td>1.000000</td>\n",
       "    </tr>\n",
       "  </tbody>\n",
       "</table>\n",
       "</div>"
      ],
      "text/plain": [
       "                frequency  monetary_value\n",
       "frequency        1.000000        0.015906\n",
       "monetary_value   0.015906        1.000000"
      ]
     },
     "execution_count": 24,
     "metadata": {},
     "output_type": "execute_result"
    }
   ],
   "source": [
    "# Calculate correlation between frequency and monetary value\n",
    "repeat_customers_summary[['frequency', 'monetary_value']].corr()"
   ]
  },
  {
   "cell_type": "markdown",
   "metadata": {},
   "source": [
    "The correlation appears to be super weak. Thus, we can conclude that `frequency` and `monetary_value` are independent from eachother and we can fit the GG model to our data."
   ]
  },
  {
   "cell_type": "code",
   "execution_count": 25,
   "metadata": {},
   "outputs": [
    {
     "data": {
      "text/html": [
       "<div>\n",
       "<style scoped>\n",
       "    .dataframe tbody tr th:only-of-type {\n",
       "        vertical-align: middle;\n",
       "    }\n",
       "\n",
       "    .dataframe tbody tr th {\n",
       "        vertical-align: top;\n",
       "    }\n",
       "\n",
       "    .dataframe thead th {\n",
       "        text-align: right;\n",
       "    }\n",
       "</style>\n",
       "<table border=\"1\" class=\"dataframe\">\n",
       "  <thead>\n",
       "    <tr style=\"text-align: right;\">\n",
       "      <th></th>\n",
       "      <th>coef</th>\n",
       "      <th>se(coef)</th>\n",
       "      <th>lower 95% bound</th>\n",
       "      <th>upper 95% bound</th>\n",
       "    </tr>\n",
       "  </thead>\n",
       "  <tbody>\n",
       "    <tr>\n",
       "      <th>p</th>\n",
       "      <td>11.125568</td>\n",
       "      <td>0.269274</td>\n",
       "      <td>10.597792</td>\n",
       "      <td>11.653344</td>\n",
       "    </tr>\n",
       "    <tr>\n",
       "      <th>q</th>\n",
       "      <td>0.838782</td>\n",
       "      <td>0.019731</td>\n",
       "      <td>0.800110</td>\n",
       "      <td>0.877455</td>\n",
       "    </tr>\n",
       "    <tr>\n",
       "      <th>v</th>\n",
       "      <td>11.292978</td>\n",
       "      <td>0.281539</td>\n",
       "      <td>10.741162</td>\n",
       "      <td>11.844795</td>\n",
       "    </tr>\n",
       "  </tbody>\n",
       "</table>\n",
       "</div>"
      ],
      "text/plain": [
       "        coef  se(coef)  lower 95% bound  upper 95% bound\n",
       "p  11.125568  0.269274        10.597792        11.653344\n",
       "q   0.838782  0.019731         0.800110         0.877455\n",
       "v  11.292978  0.281539        10.741162        11.844795"
      ]
     },
     "execution_count": 25,
     "metadata": {},
     "output_type": "execute_result"
    }
   ],
   "source": [
    "ggf_classifier = lt.GammaGammaFitter(penalizer_coef=0.001)\n",
    "ggf_classifier.fit(repeat_customers_summary['frequency'], repeat_customers_summary['monetary_value'])\n",
    "ggf_classifier.summary"
   ]
  },
  {
   "cell_type": "markdown",
   "metadata": {},
   "source": [
    "Now with our fitted GG model, we can predict the average profit for each transaction, enabling us to calculate LTV."
   ]
  },
  {
   "cell_type": "code",
   "execution_count": 26,
   "metadata": {},
   "outputs": [
    {
     "data": {
      "text/html": [
       "<div>\n",
       "<style scoped>\n",
       "    .dataframe tbody tr th:only-of-type {\n",
       "        vertical-align: middle;\n",
       "    }\n",
       "\n",
       "    .dataframe tbody tr th {\n",
       "        vertical-align: top;\n",
       "    }\n",
       "\n",
       "    .dataframe thead th {\n",
       "        text-align: right;\n",
       "    }\n",
       "</style>\n",
       "<table border=\"1\" class=\"dataframe\">\n",
       "  <thead>\n",
       "    <tr style=\"text-align: right;\">\n",
       "      <th></th>\n",
       "      <th>frequency</th>\n",
       "      <th>recency</th>\n",
       "      <th>T</th>\n",
       "      <th>monetary_value</th>\n",
       "      <th>probability_alive</th>\n",
       "      <th>pred_purchase_count</th>\n",
       "      <th>expected_avg_sales</th>\n",
       "    </tr>\n",
       "    <tr>\n",
       "      <th>CustomerID</th>\n",
       "      <th></th>\n",
       "      <th></th>\n",
       "      <th></th>\n",
       "      <th></th>\n",
       "      <th></th>\n",
       "      <th></th>\n",
       "      <th></th>\n",
       "    </tr>\n",
       "  </thead>\n",
       "  <tbody>\n",
       "    <tr>\n",
       "      <th>12347.0</th>\n",
       "      <td>6.0</td>\n",
       "      <td>365.0</td>\n",
       "      <td>367.0</td>\n",
       "      <td>599.701667</td>\n",
       "      <td>0.999698</td>\n",
       "      <td>0.47</td>\n",
       "      <td>603.040247</td>\n",
       "    </tr>\n",
       "    <tr>\n",
       "      <th>12348.0</th>\n",
       "      <td>3.0</td>\n",
       "      <td>283.0</td>\n",
       "      <td>358.0</td>\n",
       "      <td>301.480000</td>\n",
       "      <td>0.999177</td>\n",
       "      <td>0.27</td>\n",
       "      <td>306.725889</td>\n",
       "    </tr>\n",
       "    <tr>\n",
       "      <th>12352.0</th>\n",
       "      <td>6.0</td>\n",
       "      <td>260.0</td>\n",
       "      <td>296.0</td>\n",
       "      <td>368.256667</td>\n",
       "      <td>0.999406</td>\n",
       "      <td>0.56</td>\n",
       "      <td>371.034926</td>\n",
       "    </tr>\n",
       "    <tr>\n",
       "      <th>12356.0</th>\n",
       "      <td>2.0</td>\n",
       "      <td>303.0</td>\n",
       "      <td>325.0</td>\n",
       "      <td>269.905000</td>\n",
       "      <td>0.999478</td>\n",
       "      <td>0.22</td>\n",
       "      <td>277.562534</td>\n",
       "    </tr>\n",
       "    <tr>\n",
       "      <th>12358.0</th>\n",
       "      <td>1.0</td>\n",
       "      <td>149.0</td>\n",
       "      <td>150.0</td>\n",
       "      <td>683.200000</td>\n",
       "      <td>0.999486</td>\n",
       "      <td>0.25</td>\n",
       "      <td>704.704679</td>\n",
       "    </tr>\n",
       "  </tbody>\n",
       "</table>\n",
       "</div>"
      ],
      "text/plain": [
       "            frequency  recency      T  monetary_value  probability_alive  \\\n",
       "CustomerID                                                                 \n",
       "12347.0           6.0    365.0  367.0      599.701667           0.999698   \n",
       "12348.0           3.0    283.0  358.0      301.480000           0.999177   \n",
       "12352.0           6.0    260.0  296.0      368.256667           0.999406   \n",
       "12356.0           2.0    303.0  325.0      269.905000           0.999478   \n",
       "12358.0           1.0    149.0  150.0      683.200000           0.999486   \n",
       "\n",
       "            pred_purchase_count  expected_avg_sales  \n",
       "CustomerID                                           \n",
       "12347.0                    0.47          603.040247  \n",
       "12348.0                    0.27          306.725889  \n",
       "12352.0                    0.56          371.034926  \n",
       "12356.0                    0.22          277.562534  \n",
       "12358.0                    0.25          704.704679  "
      ]
     },
     "execution_count": 26,
     "metadata": {},
     "output_type": "execute_result"
    }
   ],
   "source": [
    "summary_data = summary_data[summary_data['monetary_value'] > 0]\n",
    "summary_data['expected_avg_sales'] = ggf_classifier.conditional_expected_average_profit(summary_data['frequency'], \n",
    "                                                                                        summary_data['monetary_value'])\n",
    "summary_data.head()"
   ]
  },
  {
   "cell_type": "code",
   "execution_count": 27,
   "metadata": {},
   "outputs": [
    {
     "name": "stdout",
     "output_type": "stream",
     "text": [
      "Predicted Average Sales: $486.91\n",
      "Actual Average Sales: $477.38\n"
     ]
    }
   ],
   "source": [
    "# Checking the expected average value and the actual average value in the data to make sure the values are good\n",
    "print(f\"Predicted Average Sales: ${summary_data['expected_avg_sales'].mean():,.2f}\")\n",
    "print(f\"Actual Average Sales: ${summary_data['monetary_value'].mean():,.2f}\")"
   ]
  },
  {
   "cell_type": "markdown",
   "metadata": {},
   "source": [
    "The predicted values are pretty similar to the actual values, which means we can procede to calculating LTV.\n",
    "\n",
    "There are 3 primary parameters in play here:\n",
    "1. `time`: an int that represents the number of months in the future we're predicting into\n",
    "2. `freq`: specifies the time unit our data is in. Daily = 'D', Monthly = 'M', etc\n",
    "3. `discount_rate`: this is the same concept of discounted cash flow, where we discount monetary values by a discount rate to get the present value of that cash flow. The default is 0.01 monthly, which amounts to 12.7% annually.\n",
    "\n",
    "With that in mind, we can predict the lifetime revenue `time` months in the future."
   ]
  },
  {
   "cell_type": "code",
   "execution_count": 28,
   "metadata": {},
   "outputs": [
    {
     "data": {
      "text/html": [
       "<div>\n",
       "<style scoped>\n",
       "    .dataframe tbody tr th:only-of-type {\n",
       "        vertical-align: middle;\n",
       "    }\n",
       "\n",
       "    .dataframe tbody tr th {\n",
       "        vertical-align: top;\n",
       "    }\n",
       "\n",
       "    .dataframe thead th {\n",
       "        text-align: right;\n",
       "    }\n",
       "</style>\n",
       "<table border=\"1\" class=\"dataframe\">\n",
       "  <thead>\n",
       "    <tr style=\"text-align: right;\">\n",
       "      <th></th>\n",
       "      <th>frequency</th>\n",
       "      <th>recency</th>\n",
       "      <th>T</th>\n",
       "      <th>monetary_value</th>\n",
       "      <th>probability_alive</th>\n",
       "      <th>pred_purchase_count</th>\n",
       "      <th>expected_avg_sales</th>\n",
       "      <th>pred_ltv</th>\n",
       "    </tr>\n",
       "    <tr>\n",
       "      <th>CustomerID</th>\n",
       "      <th></th>\n",
       "      <th></th>\n",
       "      <th></th>\n",
       "      <th></th>\n",
       "      <th></th>\n",
       "      <th></th>\n",
       "      <th></th>\n",
       "      <th></th>\n",
       "    </tr>\n",
       "  </thead>\n",
       "  <tbody>\n",
       "    <tr>\n",
       "      <th>12347.0</th>\n",
       "      <td>6.0</td>\n",
       "      <td>365.0</td>\n",
       "      <td>367.0</td>\n",
       "      <td>599.701667</td>\n",
       "      <td>0.999698</td>\n",
       "      <td>0.47</td>\n",
       "      <td>603.040247</td>\n",
       "      <td>280.409518</td>\n",
       "    </tr>\n",
       "    <tr>\n",
       "      <th>12348.0</th>\n",
       "      <td>3.0</td>\n",
       "      <td>283.0</td>\n",
       "      <td>358.0</td>\n",
       "      <td>301.480000</td>\n",
       "      <td>0.999177</td>\n",
       "      <td>0.27</td>\n",
       "      <td>306.725889</td>\n",
       "      <td>81.591026</td>\n",
       "    </tr>\n",
       "    <tr>\n",
       "      <th>12352.0</th>\n",
       "      <td>6.0</td>\n",
       "      <td>260.0</td>\n",
       "      <td>296.0</td>\n",
       "      <td>368.256667</td>\n",
       "      <td>0.999406</td>\n",
       "      <td>0.56</td>\n",
       "      <td>371.034926</td>\n",
       "      <td>206.034640</td>\n",
       "    </tr>\n",
       "    <tr>\n",
       "      <th>12356.0</th>\n",
       "      <td>2.0</td>\n",
       "      <td>303.0</td>\n",
       "      <td>325.0</td>\n",
       "      <td>269.905000</td>\n",
       "      <td>0.999478</td>\n",
       "      <td>0.22</td>\n",
       "      <td>277.562534</td>\n",
       "      <td>59.125290</td>\n",
       "    </tr>\n",
       "    <tr>\n",
       "      <th>12358.0</th>\n",
       "      <td>1.0</td>\n",
       "      <td>149.0</td>\n",
       "      <td>150.0</td>\n",
       "      <td>683.200000</td>\n",
       "      <td>0.999486</td>\n",
       "      <td>0.25</td>\n",
       "      <td>704.704679</td>\n",
       "      <td>174.550478</td>\n",
       "    </tr>\n",
       "  </tbody>\n",
       "</table>\n",
       "</div>"
      ],
      "text/plain": [
       "            frequency  recency      T  monetary_value  probability_alive  \\\n",
       "CustomerID                                                                 \n",
       "12347.0           6.0    365.0  367.0      599.701667           0.999698   \n",
       "12348.0           3.0    283.0  358.0      301.480000           0.999177   \n",
       "12352.0           6.0    260.0  296.0      368.256667           0.999406   \n",
       "12356.0           2.0    303.0  325.0      269.905000           0.999478   \n",
       "12358.0           1.0    149.0  150.0      683.200000           0.999486   \n",
       "\n",
       "            pred_purchase_count  expected_avg_sales    pred_ltv  \n",
       "CustomerID                                                       \n",
       "12347.0                    0.47          603.040247  280.409518  \n",
       "12348.0                    0.27          306.725889   81.591026  \n",
       "12352.0                    0.56          371.034926  206.034640  \n",
       "12356.0                    0.22          277.562534   59.125290  \n",
       "12358.0                    0.25          704.704679  174.550478  "
      ]
     },
     "execution_count": 28,
     "metadata": {},
     "output_type": "execute_result"
    }
   ],
   "source": [
    "summary_data['pred_ltv'] = ggf_classifier.customer_lifetime_value(bgf_classifier, \n",
    "                                                                  summary_data['frequency'], \n",
    "                                                                  summary_data['recency'], \n",
    "                                                                  summary_data['T'], \n",
    "                                                                  summary_data['monetary_value'], \n",
    "                                                                  time=1, # months into the future\n",
    "                                                                  discount_rate=0.01)\n",
    "summary_data.head()"
   ]
  },
  {
   "cell_type": "markdown",
   "metadata": {},
   "source": [
    "It's important to note that `pred_ltv` is a gross revenue value, rather than a profit value. To convert to a profit amount, we can use our `profit_margin` value from earlier."
   ]
  },
  {
   "cell_type": "code",
   "execution_count": 29,
   "metadata": {},
   "outputs": [
    {
     "name": "stdout",
     "output_type": "stream",
     "text": [
      "Profit margin assumption: 30.00%\n"
     ]
    },
    {
     "data": {
      "text/html": [
       "<div>\n",
       "<style scoped>\n",
       "    .dataframe tbody tr th:only-of-type {\n",
       "        vertical-align: middle;\n",
       "    }\n",
       "\n",
       "    .dataframe tbody tr th {\n",
       "        vertical-align: top;\n",
       "    }\n",
       "\n",
       "    .dataframe thead th {\n",
       "        text-align: right;\n",
       "    }\n",
       "</style>\n",
       "<table border=\"1\" class=\"dataframe\">\n",
       "  <thead>\n",
       "    <tr style=\"text-align: right;\">\n",
       "      <th></th>\n",
       "      <th>frequency</th>\n",
       "      <th>recency</th>\n",
       "      <th>T</th>\n",
       "      <th>monetary_value</th>\n",
       "      <th>probability_alive</th>\n",
       "      <th>pred_purchase_count</th>\n",
       "      <th>expected_avg_sales</th>\n",
       "      <th>pred_ltv</th>\n",
       "      <th>pred_ltv_profit</th>\n",
       "    </tr>\n",
       "    <tr>\n",
       "      <th>CustomerID</th>\n",
       "      <th></th>\n",
       "      <th></th>\n",
       "      <th></th>\n",
       "      <th></th>\n",
       "      <th></th>\n",
       "      <th></th>\n",
       "      <th></th>\n",
       "      <th></th>\n",
       "      <th></th>\n",
       "    </tr>\n",
       "  </thead>\n",
       "  <tbody>\n",
       "    <tr>\n",
       "      <th>12347.0</th>\n",
       "      <td>6.0</td>\n",
       "      <td>365.0</td>\n",
       "      <td>367.0</td>\n",
       "      <td>599.701667</td>\n",
       "      <td>0.999698</td>\n",
       "      <td>0.47</td>\n",
       "      <td>603.040247</td>\n",
       "      <td>280.409518</td>\n",
       "      <td>84.122855</td>\n",
       "    </tr>\n",
       "    <tr>\n",
       "      <th>12348.0</th>\n",
       "      <td>3.0</td>\n",
       "      <td>283.0</td>\n",
       "      <td>358.0</td>\n",
       "      <td>301.480000</td>\n",
       "      <td>0.999177</td>\n",
       "      <td>0.27</td>\n",
       "      <td>306.725889</td>\n",
       "      <td>81.591026</td>\n",
       "      <td>24.477308</td>\n",
       "    </tr>\n",
       "    <tr>\n",
       "      <th>12352.0</th>\n",
       "      <td>6.0</td>\n",
       "      <td>260.0</td>\n",
       "      <td>296.0</td>\n",
       "      <td>368.256667</td>\n",
       "      <td>0.999406</td>\n",
       "      <td>0.56</td>\n",
       "      <td>371.034926</td>\n",
       "      <td>206.034640</td>\n",
       "      <td>61.810392</td>\n",
       "    </tr>\n",
       "    <tr>\n",
       "      <th>12356.0</th>\n",
       "      <td>2.0</td>\n",
       "      <td>303.0</td>\n",
       "      <td>325.0</td>\n",
       "      <td>269.905000</td>\n",
       "      <td>0.999478</td>\n",
       "      <td>0.22</td>\n",
       "      <td>277.562534</td>\n",
       "      <td>59.125290</td>\n",
       "      <td>17.737587</td>\n",
       "    </tr>\n",
       "    <tr>\n",
       "      <th>12358.0</th>\n",
       "      <td>1.0</td>\n",
       "      <td>149.0</td>\n",
       "      <td>150.0</td>\n",
       "      <td>683.200000</td>\n",
       "      <td>0.999486</td>\n",
       "      <td>0.25</td>\n",
       "      <td>704.704679</td>\n",
       "      <td>174.550478</td>\n",
       "      <td>52.365143</td>\n",
       "    </tr>\n",
       "  </tbody>\n",
       "</table>\n",
       "</div>"
      ],
      "text/plain": [
       "            frequency  recency      T  monetary_value  probability_alive  \\\n",
       "CustomerID                                                                 \n",
       "12347.0           6.0    365.0  367.0      599.701667           0.999698   \n",
       "12348.0           3.0    283.0  358.0      301.480000           0.999177   \n",
       "12352.0           6.0    260.0  296.0      368.256667           0.999406   \n",
       "12356.0           2.0    303.0  325.0      269.905000           0.999478   \n",
       "12358.0           1.0    149.0  150.0      683.200000           0.999486   \n",
       "\n",
       "            pred_purchase_count  expected_avg_sales    pred_ltv  \\\n",
       "CustomerID                                                        \n",
       "12347.0                    0.47          603.040247  280.409518   \n",
       "12348.0                    0.27          306.725889   81.591026   \n",
       "12352.0                    0.56          371.034926  206.034640   \n",
       "12356.0                    0.22          277.562534   59.125290   \n",
       "12358.0                    0.25          704.704679  174.550478   \n",
       "\n",
       "            pred_ltv_profit  \n",
       "CustomerID                   \n",
       "12347.0           84.122855  \n",
       "12348.0           24.477308  \n",
       "12352.0           61.810392  \n",
       "12356.0           17.737587  \n",
       "12358.0           52.365143  "
      ]
     },
     "execution_count": 29,
     "metadata": {},
     "output_type": "execute_result"
    }
   ],
   "source": [
    "print(f\"Profit margin assumption: {profit_margin * 100:.2f}%\")\n",
    "summary_data['pred_ltv_profit'] = summary_data['pred_ltv'] * profit_margin\n",
    "summary_data.head()"
   ]
  },
  {
   "cell_type": "code",
   "execution_count": 30,
   "metadata": {},
   "outputs": [
    {
     "data": {
      "text/plain": [
       "count     2790.000000\n",
       "mean        73.872242\n",
       "std        295.964163\n",
       "min          0.817228\n",
       "25%         16.956392\n",
       "50%         34.011484\n",
       "75%         65.806409\n",
       "max      10152.896419\n",
       "Name: pred_ltv_profit, dtype: float64"
      ]
     },
     "execution_count": 30,
     "metadata": {},
     "output_type": "execute_result"
    }
   ],
   "source": [
    "summary_data['pred_ltv_profit'].describe()"
   ]
  },
  {
   "cell_type": "markdown",
   "metadata": {},
   "source": [
    "And there we have it! LTV predicted for each customer. A marketing, SWAT case, or churn prevention team could use this info to target specific customers to increase their sales, prevent customers from churning, and ensure revenue stability."
   ]
  }
 ],
 "metadata": {
  "kernelspec": {
   "display_name": ".venv",
   "language": "python",
   "name": "python3"
  },
  "language_info": {
   "codemirror_mode": {
    "name": "ipython",
    "version": 3
   },
   "file_extension": ".py",
   "mimetype": "text/x-python",
   "name": "python",
   "nbconvert_exporter": "python",
   "pygments_lexer": "ipython3",
   "version": "3.11.11"
  }
 },
 "nbformat": 4,
 "nbformat_minor": 2
}
